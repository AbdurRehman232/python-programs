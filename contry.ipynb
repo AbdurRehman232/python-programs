{
 "cells": [
  {
   "cell_type": "code",
   "execution_count": 5,
   "metadata": {},
   "outputs": [
    {
     "name": "stdout",
     "output_type": "stream",
     "text": [
      "ENTER YOUR COUNTRY NAME Switzerland\n",
      "IT IS A CLEANEST COUNTRY IN THE WORLD\n"
     ]
    }
   ],
   "source": [
    "cleanest_countries_in_the_world = [\"Switzerland\",\"France\",\"Denmark\"\n",
    ",\"Malta\",\"Sweden\",\"United Kingdom\",\"Luxembourg\",\"Austria\",\"Ireland\",\"Finland\",\"Iceland\",\"Spain\"\n",
    ",\"Germany\",\"Norway\",\"Belgium\",\"Italy\",\"New Zealand\",\"Netherlands\",\"Israel\",\"Japan\"\n",
    ",\"Australia\",\"Greece\",\"Taiwan\",\"Cyprus\",\"Canada\",\"Portugal\",\"USA\",\"Slovakia\",\"Lithuania\"\n",
    ",\"Costa Rica\",\"Bulgaria\",\"Qatar\",\"Czech Republic\",\"Slovenia\",\"Trinidad\",\"Tobago\",\"Saint\"\n",
    ",\"Vincent\",\"The Grenadines\",\"Latvia\",\"Turkmenistan\",\"Seychelles\",\"Albania\",\"Croatia\",\"Colombia\"\n",
    ",\"Hungary\",\"Belarus\",\"Romania\",\"Dominican Republic\",\"Uruguay\",\"Estonia\",\"Singapore\",\"Poland\"]\n",
    "cleanest_country_name = input(\"ENTER YOUR COUNTRY NAME \")# for user input only\n",
    "a = False # Only use for variable asign\n",
    "for a_cleanest_country in cleanest_countries_in_the_world:\n",
    "    if a_cleanest_country == cleanest_country_name:\n",
    "        a = True# only use for variable asign\n",
    "        print(\"IT IS A CLEANEST COUNTRY IN THE WORLD\")\n",
    "if a == False:\n",
    "    print(\"IT IS NOT A CLEANEST COUNTRY\")"
   ]
  },
  {
   "cell_type": "code",
   "execution_count": null,
   "metadata": {},
   "outputs": [],
   "source": []
  },
  {
   "cell_type": "code",
   "execution_count": null,
   "metadata": {},
   "outputs": [],
   "source": []
  }
 ],
 "metadata": {
  "kernelspec": {
   "display_name": "Python 3",
   "language": "python",
   "name": "python3"
  },
  "language_info": {
   "codemirror_mode": {
    "name": "ipython",
    "version": 3
   },
   "file_extension": ".py",
   "mimetype": "text/x-python",
   "name": "python",
   "nbconvert_exporter": "python",
   "pygments_lexer": "ipython3",
   "version": "3.7.6"
  }
 },
 "nbformat": 4,
 "nbformat_minor": 4
}
